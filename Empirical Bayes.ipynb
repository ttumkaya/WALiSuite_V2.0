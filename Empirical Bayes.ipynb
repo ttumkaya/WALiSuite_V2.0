{
 "cells": [
  {
   "cell_type": "code",
   "execution_count": null,
   "metadata": {},
   "outputs": [],
   "source": [
    "import os\n",
    "import seaborn as sns\n",
    "import pandas as pd\n",
    "from scipy import stats\n",
    "import scipy as sp\n",
    "import numpy as np\n",
    "import datetime as dt\n",
    "%matplotlib inline\n",
    "import matplotlib\n",
    "# matplotlib.use('Agg')\n",
    "# %matplotlib notebook\n",
    "import matplotlib.pyplot as plt\n",
    "from matplotlib import gridspec\n",
    "from itertools import groupby\n",
    "from operator import itemgetter\n",
    "import dabest\n",
    "from nptdms import *\n",
    "import math\n",
    "from collections import Counter\n",
    "import shutil\n",
    "import progressbar\n",
    "from svgutils.compose import *\n",
    "from matplotlib.lines import Line2D\n",
    "import random\n",
    "import dabest"
   ]
  },
  {
   "cell_type": "markdown",
   "metadata": {},
   "source": [
    "## Prepare Data for EBprot"
   ]
  },
  {
   "cell_type": "markdown",
   "metadata": {},
   "source": [
    "### Calculate Z scores"
   ]
  },
  {
   "cell_type": "code",
   "execution_count": null,
   "metadata": {},
   "outputs": [],
   "source": [
    "Z_scores = {'Di':[], 'Si':[], 'ORNs':[], 'Sex_Satiety_Wind':[], 'LightInt':[]}\n",
    "\n",
    "rootDirectory = \"C:/Users/tumkayat/Desktop/WALISAR_Paper/Figure2/Data/All_merged_intensity_wTSALE/\"\n",
    "ornList = os.listdir(rootDirectory)\n",
    "bar = progressbar.ProgressBar()\n",
    "\n",
    "## go thru the ORNs\n",
    "for ORN in bar(ornList):\n",
    "    rootDir = os.path.join(rootDirectory, ORN, \"weighted_TSALE\", \"weighted_TSALE_values.pkl\")\n",
    "    \n",
    "    df = pd.read_pickle(rootDir)\n",
    "    df = df.assign(Sex_Satiety_Wind = pd.Series(df['Sex'] + '_' + df['Satiety'] + '_' + df['Wind status'], index = df.index))\n",
    "    \n",
    "    for condition in df['Sex_Satiety_Wind'].unique():\n",
    "        for intensity in df['Light Intensity(uW/mm2)'].unique():\n",
    "            dfOI = df[(df['Sex_Satiety_Wind'] == condition) & (df['Light Intensity(uW/mm2)'] == intensity)] \n",
    "            ## calculate the mean difference as Offspring - Parent, since having 2 or 3 independent groups does not affect the mean\n",
    "            ctrl_wTSALE = dfOI[dfOI['Status'] == 'Parent']['weighted_TSALE_P10']\n",
    "            exp_wTSALE = dfOI[dfOI['Status'] == 'Offspring']['weighted_TSALE_P10']\n",
    "\n",
    "            Di = exp_wTSALE.mean() - ctrl_wTSALE.mean()\n",
    "            \n",
    "            ## calculate Si for three genotypes and then get the average - different than combining the controls\n",
    "            genotypes = df['Genotype'].unique()\n",
    "            \n",
    "            g0_data = dfOI[dfOI['Genotype'] == genotypes[0]]['weighted_TSALE_P10']\n",
    "            g1_data = dfOI[dfOI['Genotype'] == genotypes[1]]['weighted_TSALE_P10']\n",
    "            g2_data = dfOI[dfOI['Genotype'] == genotypes[2]]['weighted_TSALE_P10']\n",
    "            \n",
    "            Si = (g0_data.std() + g1_data.std() + g2_data.std()) / 3.\n",
    "            \n",
    "            Z_scores['ORNs'].append(ORN)\n",
    "            Z_scores['Sex_Satiety_Wind'].append(condition)\n",
    "            Z_scores['LightInt'].append(intensity)\n",
    "            Z_scores['Di'].append(Di)\n",
    "            Z_scores['Si'].append(Si)\n",
    "                     \n",
    "Z_scores_df = pd.DataFrame(Z_scores)\n",
    "Z_scores_df_dropna = Z_scores_df.dropna()\n",
    "\n",
    "a0 = np.percentile(Z_scores_df_dropna['Si'], 90)\n",
    "Z_scores_df_dropna['Zi'] = Z_scores_df_dropna['Di'] / (a0 + Z_scores_df_dropna['Si'])"
   ]
  },
  {
   "cell_type": "code",
   "execution_count": null,
   "metadata": {
    "scrolled": true
   },
   "outputs": [],
   "source": [
    "Z_scores_df_dropna.shape"
   ]
  },
  {
   "cell_type": "code",
   "execution_count": null,
   "metadata": {},
   "outputs": [],
   "source": [
    "Z_scores_df_dropna['Tag'] = Z_scores_df_dropna['ORNs'] + '_' + Z_scores_df_dropna['Sex_Satiety_Wind']"
   ]
  },
  {
   "cell_type": "code",
   "execution_count": null,
   "metadata": {},
   "outputs": [],
   "source": [
    "male_fed_noair = Z_scores_df_dropna[Z_scores_df_dropna['Sex_Satiety_Wind'] == 'male_fed_NoAir']\n",
    "male_fed_noair = male_fed_noair[male_fed_noair['ORNs'] != 'Gr66a']"
   ]
  },
  {
   "cell_type": "code",
   "execution_count": null,
   "metadata": {
    "scrolled": true
   },
   "outputs": [],
   "source": [
    "male_fed_noair.shape"
   ]
  },
  {
   "cell_type": "code",
   "execution_count": null,
   "metadata": {},
   "outputs": [],
   "source": [
    "## If you are using only a part of the dataset, i.e. Fed and NoAir, calculate the Z scores for that group only\n",
    "a0 = np.percentile(male_fed_noair['Si'], 90)\n",
    "male_fed_noair['Zi'] = male_fed_noair['Di'] / (a0 + male_fed_noair['Si'])"
   ]
  },
  {
   "cell_type": "code",
   "execution_count": null,
   "metadata": {
    "scrolled": true
   },
   "outputs": [],
   "source": [
    "male_fed_noair.to_csv('C:/Users/tumkayat/Desktop/Fed_and_NoWir_only_woutGr66a.csv')"
   ]
  },
  {
   "cell_type": "code",
   "execution_count": null,
   "metadata": {},
   "outputs": [],
   "source": [
    "##Drop Gr66a, EBprot blows up otherwise\n",
    "a = Z_scores_df_dropna[Z_scores_df_dropna['ORNs'] != 'Gr66a']\n",
    "a.shape"
   ]
  },
  {
   "cell_type": "code",
   "execution_count": null,
   "metadata": {},
   "outputs": [],
   "source": [
    "a.to_csv('C:/Users/tumkayat/Desktop/All_adult_data_woutGr66a_wCombos.csv')"
   ]
  },
  {
   "cell_type": "markdown",
   "metadata": {},
   "source": [
    "### Calculate Z scores using data from DF"
   ]
  },
  {
   "cell_type": "code",
   "execution_count": null,
   "metadata": {},
   "outputs": [],
   "source": [
    "##!!!! Calculate Z scores for stand-alone dataframes\n",
    "def calculate_Z(a0,Di,Si):\n",
    "    z_scores = []\n",
    "    Di = Di.dropna()\n",
    "    Si = Si.dropna()\n",
    "    \n",
    "    for k in range(len(Di)):\n",
    "        z = Di.iloc[k] / (a0 + Si.iloc[k])\n",
    "        \n",
    "        z_scores.append(z)\n",
    "    return z_scores"
   ]
  },
  {
   "cell_type": "code",
   "execution_count": null,
   "metadata": {
    "scrolled": true
   },
   "outputs": [],
   "source": [
    "deltadelta_df = pd.read_csv('C:/Users/tumkayat/Desktop/WALISAR_Paper/Figure3/AllDeltaDelta/deltadelta_ES_ALL.csv')"
   ]
  },
  {
   "cell_type": "code",
   "execution_count": null,
   "metadata": {},
   "outputs": [],
   "source": [
    "xyz = pd.read_csv('C:/Users/tumkayat/Desktop/OATAScreennew.csv')"
   ]
  },
  {
   "cell_type": "code",
   "execution_count": null,
   "metadata": {
    "scrolled": true
   },
   "outputs": [],
   "source": [
    "xyz"
   ]
  },
  {
   "cell_type": "code",
   "execution_count": null,
   "metadata": {},
   "outputs": [],
   "source": [
    "a0_xyz = np.percentile(xyz['Si'], 90)"
   ]
  },
  {
   "cell_type": "code",
   "execution_count": null,
   "metadata": {},
   "outputs": [],
   "source": [
    "Z_scores_xyz = calculate_Z(a0_xyz, xyz['Effect_size'], xyz['Si'])"
   ]
  },
  {
   "cell_type": "code",
   "execution_count": null,
   "metadata": {},
   "outputs": [],
   "source": [
    "xyz['Zscores'] = Z_scores_xyz"
   ]
  },
  {
   "cell_type": "code",
   "execution_count": null,
   "metadata": {},
   "outputs": [],
   "source": [
    "xyz.to_csv('C:/Users/tumkayat/Desktop/OATA_Screen_Zscores.csv')"
   ]
  },
  {
   "cell_type": "code",
   "execution_count": null,
   "metadata": {
    "scrolled": true
   },
   "outputs": [],
   "source": [
    "deltadelta_df.columns"
   ]
  },
  {
   "cell_type": "code",
   "execution_count": null,
   "metadata": {
    "scrolled": true
   },
   "outputs": [],
   "source": [
    "merge_Si = [\n",
    "            deltadelta_df['male_fed_air_V_male_fed_noair_pooledSD'].dropna(),\n",
    "            deltadelta_df['male_starved_air_V_male_starved_noair_pooledSD'].dropna(),\n",
    "            deltadelta_df['male_fed_noair_V_male_starved_noair_pooledSD'].dropna(),\n",
    "            deltadelta_df['male_fed_air_V_male_starved_air_pooledSD'].dropna(),\n",
    "            deltadelta_df['female_fed_noair_V_male_fed_noair_pooledSD'].dropna(),\n",
    "            deltadelta_df['female_fed_air_V_male_fed_air_pooledSD'].dropna(),\n",
    "            deltadelta_df['female_starved_noair_V_male_starved_noair_pooledSD'].dropna(),\n",
    "            deltadelta_df['female_starved_air_V_male_starved_air_pooledSD'].dropna()\n",
    "           ]\n",
    "\n",
    "all_model_Si = pd.concat(merge_Si, ignore_index=True)\n",
    "a0 = np.percentile(all_model_Si, 90)\n",
    "\n",
    "## Wind\n",
    "male_fed_air_V_male_fed_noair_ZScores = calculate_Z(a0,deltadelta_df['male_fed_air_V_male_fed_noair_ES'].dropna(), deltadelta_df['male_fed_air_V_male_fed_noair_pooledSD'].dropna())\n",
    "male_starved_air_V_male_starved_noair_ZScores = calculate_Z(a0,deltadelta_df['male_starved_air_V_male_starved_noair_ES'].dropna(), deltadelta_df['male_starved_air_V_male_starved_noair_pooledSD'].dropna())\n",
    "\n",
    "## Starvation\n",
    "male_fed_noair_V_male_starved_noair_ZScores = calculate_Z(a0,deltadelta_df['male_fed_noair_V_male_starved_noair_ES'].dropna(), deltadelta_df['male_fed_noair_V_male_starved_noair_pooledSD'].dropna())\n",
    "male_fed_air_V_male_starved_air_ZScores = calculate_Z(a0,deltadelta_df['male_fed_air_V_male_starved_air_ES'].dropna(), deltadelta_df['male_fed_air_V_male_starved_air_pooledSD'].dropna())\n",
    "\n",
    "## Sex\n",
    "female_fed_noair_V_male_fed_noair_ZScores = calculate_Z(a0,deltadelta_df['female_fed_noair_V_male_fed_noair_ES'].dropna(), deltadelta_df['female_fed_noair_V_male_fed_noair_pooledSD'].dropna())\n",
    "female_fed_air_V_male_fed_air_ZScores = calculate_Z(a0,deltadelta_df['female_fed_air_V_male_fed_air_ES'].dropna(), deltadelta_df['female_fed_air_V_male_fed_air_pooledSD'].dropna())\n",
    "female_starved_noair_V_male_starved_noair_ZScores = calculate_Z(a0,deltadelta_df['female_starved_noair_V_male_starved_noair_ES'].dropna(), deltadelta_df['female_starved_noair_V_male_starved_noair_pooledSD'].dropna())\n",
    "female_starved_air_V_male_starved_air_ZScores = calculate_Z(a0,deltadelta_df['female_starved_air_V_male_starved_air_ES'].dropna(), deltadelta_df['female_starved_air_V_male_starved_air_pooledSD'].dropna())"
   ]
  },
  {
   "cell_type": "code",
   "execution_count": null,
   "metadata": {
    "scrolled": true
   },
   "outputs": [],
   "source": [
    "## Make DF for male_fed_air_V_male_fed_noair\n",
    "male_fed_air_V_male_fed_noair_ZScore_dict = {'ORNs':[], 'LightInt':[], 'ZScores':[]}\n",
    "male_fed_air_V_male_fed_noair_ZScore_DF = pd.DataFrame(male_fed_air_V_male_fed_noair_ZScore_dict)\n",
    "\n",
    "male_fed_air_V_male_fed_noair_ZScore_DF['ORNs'] = deltadelta_df.dropna(subset=['male_fed_air_V_male_fed_noair_ES'])['ORNs']\n",
    "male_fed_air_V_male_fed_noair_ZScore_DF['LightInt'] = deltadelta_df.dropna(subset=['male_fed_air_V_male_fed_noair_ES'])['LightInt']\n",
    "male_fed_air_V_male_fed_noair_ZScore_DF['ZScores'] = male_fed_air_V_male_fed_noair_ZScores\n",
    "male_fed_air_V_male_fed_noair_ZScore_DF['Condition'] = 'male_fed_air_V_male_fed_noair'\n",
    "\n",
    "## Make DF for male_starved_air_V_male_starved_noair\n",
    "male_starved_air_V_male_starved_noair_ZScore_dict = {'ORNs':[], 'LightInt':[], 'ZScores':[]}\n",
    "male_starved_air_V_male_starved_noair_ZScore_DF = pd.DataFrame(male_starved_air_V_male_starved_noair_ZScore_dict)\n",
    "\n",
    "male_starved_air_V_male_starved_noair_ZScore_DF['ORNs'] = deltadelta_df.dropna(subset=['male_starved_air_V_male_starved_noair_ES'])['ORNs']\n",
    "male_starved_air_V_male_starved_noair_ZScore_DF['LightInt'] = deltadelta_df.dropna(subset=['male_starved_air_V_male_starved_noair_ES'])['LightInt']\n",
    "male_starved_air_V_male_starved_noair_ZScore_DF['ZScores'] = male_starved_air_V_male_starved_noair_ZScores\n",
    "male_starved_air_V_male_starved_noair_ZScore_DF['Condition'] = 'male_starved_air_V_male_starved_noair'\n",
    "\n",
    "## Make DF for male_fed_noair_V_male_starved_noair\n",
    "male_fed_noair_V_male_starved_noair_ZScore_dict = {'ORNs':[], 'LightInt':[], 'ZScores':[]}\n",
    "male_fed_noair_V_male_starved_noair_ZScore_DF = pd.DataFrame(male_fed_noair_V_male_starved_noair_ZScore_dict)\n",
    "\n",
    "male_fed_noair_V_male_starved_noair_ZScore_DF['ORNs'] = deltadelta_df.dropna(subset=['male_fed_noair_V_male_starved_noair_ES'])['ORNs']\n",
    "male_fed_noair_V_male_starved_noair_ZScore_DF['LightInt'] = deltadelta_df.dropna(subset=['male_fed_noair_V_male_starved_noair_ES'])['LightInt']\n",
    "male_fed_noair_V_male_starved_noair_ZScore_DF['ZScores'] = male_fed_noair_V_male_starved_noair_ZScores\n",
    "male_fed_noair_V_male_starved_noair_ZScore_DF['Condition'] = 'male_fed_noair_V_male_starved_noair'\n",
    "\n",
    "## Make DF for male_fed_air_V_male_starved_air\n",
    "male_fed_air_V_male_starved_air_ZScore_dict = {'ORNs':[], 'LightInt':[], 'ZScores':[]}\n",
    "male_fed_air_V_male_starved_air_ZScore_DF = pd.DataFrame(male_fed_air_V_male_starved_air_ZScore_dict)\n",
    "\n",
    "male_fed_air_V_male_starved_air_ZScore_DF['ORNs'] = deltadelta_df.dropna(subset=['male_fed_air_V_male_starved_air_ES'])['ORNs']\n",
    "male_fed_air_V_male_starved_air_ZScore_DF['LightInt'] = deltadelta_df.dropna(subset=['male_fed_air_V_male_starved_air_ES'])['LightInt']\n",
    "male_fed_air_V_male_starved_air_ZScore_DF['ZScores'] = male_fed_air_V_male_starved_air_ZScores\n",
    "male_fed_air_V_male_starved_air_ZScore_DF['Condition'] = 'male_fed_air_V_male_starved_air'\n",
    "\n",
    "## Make DF for female_fed_noair_V_male_fed_noair\n",
    "female_fed_noair_V_male_fed_noair_ZScore_dict = {'ORNs':[], 'LightInt':[], 'ZScores':[]}\n",
    "female_fed_noair_V_male_fed_noair_ZScore_DF = pd.DataFrame(female_fed_noair_V_male_fed_noair_ZScore_dict)\n",
    "\n",
    "female_fed_noair_V_male_fed_noair_ZScore_DF['ORNs'] = deltadelta_df.dropna(subset=['female_fed_noair_V_male_fed_noair_ES'])['ORNs']\n",
    "female_fed_noair_V_male_fed_noair_ZScore_DF['LightInt'] = deltadelta_df.dropna(subset=['female_fed_noair_V_male_fed_noair_ES'])['LightInt']\n",
    "female_fed_noair_V_male_fed_noair_ZScore_DF['ZScores'] = female_fed_noair_V_male_fed_noair_ZScores                                                        \n",
    "female_fed_noair_V_male_fed_noair_ZScore_DF['Condition'] = 'female_fed_noair_V_male_fed_noair'\n",
    "\n",
    "## Make DF for female_fed_air_V_male_fed_air\n",
    "female_fed_air_V_male_fed_air_ZScore_dict = {'ORNs':[], 'LightInt':[], 'ZScores':[]}\n",
    "female_fed_air_V_male_fed_air_ZScore_DF = pd.DataFrame(female_fed_air_V_male_fed_air_ZScore_dict)\n",
    "\n",
    "female_fed_air_V_male_fed_air_ZScore_DF['ORNs'] = deltadelta_df.dropna(subset=['female_fed_air_V_male_fed_air_ES'])['ORNs']\n",
    "female_fed_air_V_male_fed_air_ZScore_DF['LightInt'] = deltadelta_df.dropna(subset=['female_fed_air_V_male_fed_air_ES'])['LightInt']\n",
    "female_fed_air_V_male_fed_air_ZScore_DF['ZScores'] = female_fed_air_V_male_fed_air_ZScores\n",
    "female_fed_air_V_male_fed_air_ZScore_DF['Condition'] = 'female_fed_air_V_male_fed_air'\n",
    "\n",
    "## Make DF for female_starved_noair_V_male_starved_noair\n",
    "female_starved_noair_V_male_starved_noair_ZScore_dict = {'ORNs':[], 'LightInt':[], 'ZScores':[]}\n",
    "female_starved_noair_V_male_starved_noair_ZScore_DF = pd.DataFrame(female_starved_noair_V_male_starved_noair_ZScore_dict)\n",
    "\n",
    "female_starved_noair_V_male_starved_noair_ZScore_DF['ORNs'] = deltadelta_df.dropna(subset=['female_starved_noair_V_male_starved_noair_ES'])['ORNs']\n",
    "female_starved_noair_V_male_starved_noair_ZScore_DF['LightInt'] = deltadelta_df.dropna(subset=['female_starved_noair_V_male_starved_noair_ES'])['LightInt']\n",
    "female_starved_noair_V_male_starved_noair_ZScore_DF['ZScores'] = female_starved_noair_V_male_starved_noair_ZScores\n",
    "female_starved_noair_V_male_starved_noair_ZScore_DF['Condition'] = 'female_starved_noair_V_male_starved_noair'\n",
    "\n",
    "## Make DF for female_starved_air_V_male_starved_air\n",
    "female_starved_air_V_male_starved_air_ZScore_dict = {'ORNs':[], 'LightInt':[], 'ZScores':[]}\n",
    "female_starved_air_V_male_starved_air_ZScore_DF = pd.DataFrame(female_starved_air_V_male_starved_air_ZScore_dict)\n",
    "\n",
    "female_starved_air_V_male_starved_air_ZScore_DF['ORNs'] = deltadelta_df.dropna(subset=['female_starved_air_V_male_starved_air_ES'])['ORNs']\n",
    "female_starved_air_V_male_starved_air_ZScore_DF['LightInt'] = deltadelta_df.dropna(subset=['female_starved_air_V_male_starved_air_ES'])['LightInt']\n",
    "female_starved_air_V_male_starved_air_ZScore_DF['ZScores'] = female_starved_air_V_male_starved_air_ZScores\n",
    "female_starved_air_V_male_starved_air_ZScore_DF['Condition'] = 'female_starved_air_V_male_starved_air'"
   ]
  },
  {
   "cell_type": "code",
   "execution_count": null,
   "metadata": {},
   "outputs": [],
   "source": [
    "merge = [male_fed_air_V_male_fed_noair_ZScore_DF, male_starved_air_V_male_starved_noair_ZScore_DF,\n",
    "         male_fed_noair_V_male_starved_noair_ZScore_DF, male_fed_air_V_male_starved_air_ZScore_DF,\n",
    "         female_fed_noair_V_male_fed_noair_ZScore_DF, female_fed_air_V_male_fed_air_ZScore_DF,\n",
    "         female_starved_noair_V_male_starved_noair_ZScore_DF, female_starved_air_V_male_starved_air_ZScore_DF]\n",
    "\n",
    "deltadelta_ZScore_Table = pd.concat(merge, ignore_index=True)"
   ]
  },
  {
   "cell_type": "code",
   "execution_count": null,
   "metadata": {
    "scrolled": true
   },
   "outputs": [],
   "source": [
    "airEffect = deltadelta_ZScore_Table[(deltadelta_ZScore_Table['Condition'] == 'male_fed_air_V_male_fed_noair') | (deltadelta_ZScore_Table['Condition'] == 'male_starved_air_V_male_starved_noair') ]\n",
    "airEffect['ORNs'] = airEffect['ORNs'] + '_' + airEffect['Condition']\n",
    "airEffect.to_csv(\"C:/Users/tumkayat/Desktop/deltadelta_ZScores_Air_Effect_Only.csv\")"
   ]
  },
  {
   "cell_type": "code",
   "execution_count": null,
   "metadata": {},
   "outputs": [],
   "source": [
    "starvationEffect = deltadelta_ZScore_Table[(deltadelta_ZScore_Table['Condition'] == 'male_fed_air_V_male_starved_air') | (deltadelta_ZScore_Table['Condition'] == 'male_fed_noair_V_male_starved_noair') ]\n",
    "starvationEffect['ORNs'] = starvationEffect['ORNs'] + '_' + starvationEffect['Condition']\n",
    "starvationEffect.to_csv(\"C:/Users/tumkayat/Desktop/deltadelta_ZScores_Starvation_Effect_Only.csv\")"
   ]
  },
  {
   "cell_type": "code",
   "execution_count": null,
   "metadata": {},
   "outputs": [],
   "source": [
    "sexEffect = deltadelta_ZScore_Table[(deltadelta_ZScore_Table['Condition'] == 'female_fed_air_V_male_fed_air') | (deltadelta_ZScore_Table['Condition'] == 'female_fed_noair_V_male_fed_noair') | \\\n",
    "                                   (deltadelta_ZScore_Table['Condition'] == 'female_starved_noair_V_male_starved_air') | (deltadelta_ZScore_Table['Condition'] == 'female_starved_noair_V_male_starved_noair')]\n",
    "sexEffect['ORNs'] = sexEffect['ORNs'] + '_' + sexEffect['Condition']\n",
    "sexEffect.to_csv(\"C:/Users/tumkayat/Desktop/deltadelta_ZScores_Sex_Effect_Only.csv\")"
   ]
  },
  {
   "cell_type": "code",
   "execution_count": null,
   "metadata": {},
   "outputs": [],
   "source": [
    "deltadelta_ZScore_Table['ORNs'] = deltadelta_ZScore_Table['ORNs'] + '_' + deltadelta_ZScore_Table['Condition']\n",
    "deltadelta_ZScore_Table.to_csv(\"C:/Users/tumkayat/Desktop/deltadelta_ZScores_ALL.csv\")"
   ]
  },
  {
   "cell_type": "code",
   "execution_count": null,
   "metadata": {
    "scrolled": true
   },
   "outputs": [],
   "source": [
    "deltadelta_ZScore_Table"
   ]
  },
  {
   "cell_type": "code",
   "execution_count": null,
   "metadata": {
    "scrolled": true
   },
   "outputs": [],
   "source": [
    "a"
   ]
  },
  {
   "cell_type": "markdown",
   "metadata": {},
   "source": [
    "## Prepare EBprot RESULTS"
   ]
  },
  {
   "cell_type": "code",
   "execution_count": null,
   "metadata": {},
   "outputs": [],
   "source": [
    "allData_meanFixed_df = pd.read_csv(\"C:/Users/tumkayat/Desktop/allData_Z_Gr66aREMOVED_CombosADDED_RESULTS.csv\")"
   ]
  },
  {
   "cell_type": "code",
   "execution_count": null,
   "metadata": {},
   "outputs": [],
   "source": [
    "allData_meanFixed_df['Condition'] = allData_meanFixed_df['ZI.Protein'].apply(lambda x: x.split('_')[1:])\n",
    "allData_meanFixed_df['ORNs'] = allData_meanFixed_df['ZI.Protein'].apply(lambda x: x.split('_')[0])\n",
    "allData_meanFixed_df['Condition'] = allData_meanFixed_df['Condition'].apply(lambda x: x[0] + '_' + x[1] + '_' + x[2])"
   ]
  },
  {
   "cell_type": "code",
   "execution_count": null,
   "metadata": {
    "scrolled": true
   },
   "outputs": [],
   "source": [
    "listOfHits = allData_meanFixed_df[(allData_meanFixed_df[\"ZI.BFDR\"] <= 0.2)].sort_values('Condition')  #& (allData_meanFixed_df[\"Condition\"] == 'male_fed_Air')]\n",
    "listOfHits"
   ]
  },
  {
   "cell_type": "code",
   "execution_count": null,
   "metadata": {},
   "outputs": [],
   "source": [
    "allData_meanFixed_df['Condition'].unique()"
   ]
  },
  {
   "cell_type": "code",
   "execution_count": null,
   "metadata": {},
   "outputs": [],
   "source": [
    "listOfHits.to_csv(\"C:/Users/tumkayat/Desktop/AllData_Combos_NoGr66a_BFDR_0.2_results.csv\")"
   ]
  },
  {
   "cell_type": "code",
   "execution_count": null,
   "metadata": {},
   "outputs": [],
   "source": [
    "allData_meanFixedFALSE_df = pd.read_csv(\"C:/Users/tumkayat/Desktop/allData_Gr66aREMOVED_CombosADDED_RESULTS.csv\")"
   ]
  },
  {
   "cell_type": "code",
   "execution_count": null,
   "metadata": {},
   "outputs": [],
   "source": [
    "allData_meanFixedFALSE_df['Condition'] = allData_meanFixedFALSE_df['ZI.Protein'].apply(lambda x: x.split('_')[1:])\n",
    "allData_meanFixedFALSE_df['ORNs'] = allData_meanFixedFALSE_df['ZI.Protein'].apply(lambda x: x.split('_')[0])\n",
    "allData_meanFixedFALSE_df['Condition'] = allData_meanFixedFALSE_df['Condition'].apply(lambda x: x[0] + '_' + x[1] + '_' + x[2])"
   ]
  },
  {
   "cell_type": "code",
   "execution_count": null,
   "metadata": {},
   "outputs": [],
   "source": [
    "allData_meanFixedFALSE_df[(allData_meanFixedFALSE_df[\"ZI.BFDR\"] <= 0.3) & (allData_meanFixedFALSE_df[\"Condition\"] == 'male_fed_Air')]"
   ]
  },
  {
   "cell_type": "code",
   "execution_count": null,
   "metadata": {
    "scrolled": false
   },
   "outputs": [],
   "source": [
    "allData_meanFixedFALSE_df[allData_meanFixedFALSE_df['ZI.Protein'].str.contains('Or42b')]"
   ]
  },
  {
   "cell_type": "markdown",
   "metadata": {},
   "source": [
    "## Calculate delta-delta Z scores"
   ]
  },
  {
   "cell_type": "code",
   "execution_count": null,
   "metadata": {
    "scrolled": true
   },
   "outputs": [],
   "source": [
    "Z_scores_df_dropna"
   ]
  },
  {
   "cell_type": "code",
   "execution_count": null,
   "metadata": {},
   "outputs": [],
   "source": []
  }
 ],
 "metadata": {
  "kernelspec": {
   "display_name": "Python 3",
   "language": "python",
   "name": "python3"
  },
  "language_info": {
   "codemirror_mode": {
    "name": "ipython",
    "version": 3
   },
   "file_extension": ".py",
   "mimetype": "text/x-python",
   "name": "python",
   "nbconvert_exporter": "python",
   "pygments_lexer": "ipython3",
   "version": "3.7.3"
  }
 },
 "nbformat": 4,
 "nbformat_minor": 2
}
